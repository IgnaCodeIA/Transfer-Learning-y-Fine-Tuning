{
  "cells": [
    {
      "cell_type": "code",
      "execution_count": null,
      "metadata": {
        "colab": {
          "base_uri": "https://localhost:8080/"
        },
        "id": "wWRLbJinfIm-",
        "outputId": "3af4af0f-e72a-4586-c6ae-834a16896cae"
      },
      "outputs": [],
      "source": [
        "pip install openai"
      ]
    },
    {
      "cell_type": "code",
      "execution_count": 1,
      "metadata": {
        "id": "JMiHUAbSgmsS"
      },
      "outputs": [],
      "source": [
        "from openai import OpenAI"
      ]
    },
    {
      "cell_type": "code",
      "execution_count": 2,
      "metadata": {
        "id": "sN5zFG35goyz"
      },
      "outputs": [],
      "source": [
        "openai = OpenAI(api_key=\"") "
      ]
    },
    {
      "cell_type": "code",
      "execution_count": 11,
      "metadata": {
        "colab": {
          "base_uri": "https://localhost:8080/"
        },
        "id": "yNKHA3Phgws3",
        "outputId": "7201bdec-ae38-43af-891d-ee86ed45384c"
      },
      "outputs": [
        {
          "name": "stdout",
          "output_type": "stream",
          "text": [
            "ChatCompletion(id='chatcmpl-8mQGmuIC3z7q9J8RqaxadpYHWQ1J9', choices=[Choice(finish_reason='length', index=0, logprobs=None, message=ChatCompletionMessage(content='¡Claro! Aquí tienes 5 recomendaciones de películas de acción:\\n\\n1. \"John Wick\" (2014): Un exasesino a sueldo busca venganza tras la muerte de su perro.\\n\\n2. \"Mad Max: Fury Road\" (2015): En un mundo postapocalíptico, una mujer y un grupo de rebeldes bus', role='assistant', function_call=None, tool_calls=None)), Choice(finish_reason='length', index=1, logprobs=None, message=ChatCompletionMessage(content='¡Claro! Aquí tienes cinco recomendaciones de películas de acción:\\n\\n1. \"John Wick\" (2014): Protagonizada por Keanu Reeves, esta película sigue las hazañas de John Wick, un exasesino a sueldo que busca venganza después de que le roben su auto y maten a su perro.\\n\\n2. \"Mad Max', role='assistant', function_call=None, tool_calls=None)), Choice(finish_reason='length', index=2, logprobs=None, message=ChatCompletionMessage(content='¡Claro! Aquí tienes cinco recomendaciones de películas de acción:\\n\\n1. \"John Wick\" (2014): Un exasesino a sueldo se embarca en una misión de venganza cuando le roban lo más preciado que tenía, su perro.\\n\\n2. \"Mad Max: Fury Road\" (2015): En un futuro postapocalípt', role='assistant', function_call=None, tool_calls=None))], created=1706551416, model='gpt-3.5-turbo-0613', object='chat.completion', system_fingerprint=None, usage=CompletionUsage(completion_tokens=240, prompt_tokens=36, total_tokens=276))\n"
          ]
        }
      ],
      "source": [
        "response = openai.chat.completions.create(\n",
        "    \n",
        "    model = \"gpt-3.5-turbo\",\n",
        "    messages= [\n",
        "        {\"role\": \"system\", \"content\" : \"Eres un recomendador de películas\"},\n",
        "        {\"role\": \"user\", \"content\" : \"quiero verme alguna película de acción, recomiendame 5 películas\"}\n",
        "        \n",
        "    ],\n",
        "    max_tokens = 80,\n",
        "    temperature = 0.9,\n",
        "    top_p = 1,\n",
        "    n =3\n",
        "    \n",
        ")\n",
        "    \n",
        "print(response)\n"
      ]
    },
    {
      "cell_type": "code",
      "execution_count": 6,
      "metadata": {
        "colab": {
          "base_uri": "https://localhost:8080/"
        },
        "id": "9253KN3KNJKf",
        "outputId": "e2264882-20ea-4d55-bd6a-0b2ebf2bfcb2"
      },
      "outputs": [
        {
          "name": "stdout",
          "output_type": "stream",
          "text": [
            "ChatCompletion(id='chatcmpl-8kGJWDqziwRg8iAECoQWkzOYVG1Cr', choices=[Choice(finish_reason='length', index=0, logprobs=None, message=ChatCompletionMessage(content='El navegador y explorador cristiano genovés, Cristóbal Colón, es comúnmente acreditado con el descubrimiento de América en 1492 mientras buscaba una nueva ruta hacia Asia por el Oeste. Sin', role='assistant', function_call=None, tool_calls=None)), Choice(finish_reason='length', index=1, logprobs=None, message=ChatCompletionMessage(content='Cristóbal Colón es generalmente acreditado como el descubridor de América. Sin embargo, es importante mencionar que existían civilizaciones indígenas en el continente mucho antes de la llegada de Col', role='assistant', function_call=None, tool_calls=None))], created=1706036490, model='gpt-3.5-turbo-0613', object='chat.completion', system_fingerprint=None, usage=CompletionUsage(completion_tokens=100, prompt_tokens=32, total_tokens=132))\n"
          ]
        }
      ],
      "source": [
        "response = openai.chat.completions.create(\n",
        "    model = 'gpt-3.5-turbo',\n",
        "    messages = [\n",
        "        {\"role\": \"system\", \"content\" :\"Eres un asistente que da informacion a dudas\"},\n",
        "        {\"role\": \"user\", \"content\" :\"¿Quién descubrió América?\"}\n",
        "    ],\n",
        "    max_tokens = 50,\n",
        "    temperature = 1,\n",
        "    top_p = 1,\n",
        "    n = 2\n",
        ")\n",
        "\n",
        "print(response)"
      ]
    },
    {
      "cell_type": "code",
      "execution_count": 14,
      "metadata": {},
      "outputs": [
        {
          "name": "stdout",
          "output_type": "stream",
          "text": [
            "¡Claro! Aquí tienes cinco recomendaciones de películas de acción:\n",
            "\n",
            "1. \"John Wick\" (2014): Un exasesino a sueldo se embarca en una misión de venganza cuando le roban lo más preciado que tenía, su perro.\n",
            "\n",
            "2. \"Mad Max: Fury Road\" (2015): En un futuro postapocalípt\n"
          ]
        }
      ],
      "source": [
        "print(response.choices[2].message.content)"
      ]
    },
    {
      "cell_type": "code",
      "execution_count": 7,
      "metadata": {},
      "outputs": [
        {
          "name": "stdout",
          "output_type": "stream",
          "text": [
            "El navegador y explorador cristiano genovés, Cristóbal Colón, es comúnmente acreditado con el descubrimiento de América en 1492 mientras buscaba una nueva ruta hacia Asia por el Oeste. Sin\n"
          ]
        }
      ],
      "source": [
        "print(response.choices[0].message.content)"
      ]
    },
    {
      "cell_type": "code",
      "execution_count": 8,
      "metadata": {},
      "outputs": [
        {
          "name": "stdout",
          "output_type": "stream",
          "text": [
            "Cristóbal Colón es generalmente acreditado como el descubridor de América. Sin embargo, es importante mencionar que existían civilizaciones indígenas en el continente mucho antes de la llegada de Col\n"
          ]
        }
      ],
      "source": [
        "print(response.choices[1].message.content)"
      ]
    },
    {
      "cell_type": "code",
      "execution_count": 9,
      "metadata": {},
      "outputs": [
        {
          "name": "stdout",
          "output_type": "stream",
          "text": [
            "La IA, o Inteligencia Artificial, es una rama de la informática que se enfoca en desarrollar sistemas y programas capaces de realizar tareas que requieren de inteligencia humana. Estos sistemas pueden aprender, razonar, planificar, reconocer voz y texto, interpretar imágenes, entre otras habilidades. La IA busca imitar o simular la inteligencia humana para resolver problemas de manera eficiente y automatizada.\n"
          ]
        }
      ],
      "source": [
        "response = openai.chat.completions.create(\n",
        "    model = 'gpt-3.5-turbo',\n",
        "    messages = [\n",
        "        {\"role\": \"system\", \"content\" :\"Eres un asistente que da informacion a dudas\"},\n",
        "        {\"role\": \"user\", \"content\" :\"¿Qué es IA?\"}\n",
        "    ],\n",
        "    max_tokens = 100,\n",
        "    temperature = 0.3,\n",
        "    top_p = 1,\n",
        "    n = 3\n",
        ")\n",
        "\n",
        "print(response.choices[0].message.content)"
      ]
    },
    {
      "cell_type": "code",
      "execution_count": 10,
      "metadata": {},
      "outputs": [
        {
          "name": "stdout",
          "output_type": "stream",
          "text": [
            "La IA, o Inteligencia Artificial, es una rama de la informática que se enfoca en desarrollar sistemas y programas capaces de realizar tareas que requieren de inteligencia humana. Estos sistemas pueden aprender, razonar, planificar, reconocer voz y texto, interpretar imágenes, entre otras habilidades. La IA busca imitar o simular la inteligencia humana para resolver problemas de manera eficiente y automatizada.\n"
          ]
        }
      ],
      "source": [
        "print(response.choices[0].message.content)"
      ]
    },
    {
      "cell_type": "code",
      "execution_count": 11,
      "metadata": {},
      "outputs": [
        {
          "name": "stdout",
          "output_type": "stream",
          "text": [
            "IA es el acrónimo de Inteligencia Artificial. Se refiere a la capacidad de las máquinas para imitar o simular la inteligencia humana. La IA se basa en algoritmos y modelos matemáticos que permiten a las máquinas aprender, razonar, tomar decisiones y resolver problemas de manera similar a como lo haría un ser humano. La IA se utiliza en una amplia variedad de aplicaciones, como reconocimiento\n"
          ]
        }
      ],
      "source": [
        "print(response.choices[1].message.content)"
      ]
    },
    {
      "cell_type": "code",
      "execution_count": 12,
      "metadata": {},
      "outputs": [
        {
          "name": "stdout",
          "output_type": "stream",
          "text": [
            "IA es el acrónimo de Inteligencia Artificial. Se refiere a la capacidad de las máquinas para imitar y realizar tareas que normalmente requieren inteligencia humana, como el reconocimiento de voz, la toma de decisiones, el aprendizaje y la resolución de problemas. La IA se basa en algoritmos y modelos matemáticos que permiten a las máquinas procesar grandes cantidades de datos y aprender de ellos\n"
          ]
        }
      ],
      "source": [
        "print(response.choices[2].message.content)"
      ]
    },
    {
      "cell_type": "code",
      "execution_count": 15,
      "metadata": {},
      "outputs": [],
      "source": [
        "# funcion para obtener la respuesta del modelo que recibe como paramtero una pregunta y devuelve la respuesta\n",
        "def responseModel(pregunta):\n",
        "    response = openai.chat.completions.create(\n",
        "        model = 'gpt-3.5-turbo',\n",
        "        messages = [\n",
        "            {\"role\": \"system\", \"content\" :\"Eres un asistente que da informacion a dudas\"},\n",
        "            {\"role\": \"user\", \"content\" : pregunta}\n",
        "        ],\n",
        "        max_tokens = 100,\n",
        "        temperature = 0.3,\n",
        "        top_p = 1,\n",
        "        \n",
        "    )\n",
        "    return response.choices[0].message.content"
      ]
    },
    {
      "cell_type": "code",
      "execution_count": 16,
      "metadata": {},
      "outputs": [
        {
          "data": {
            "text/plain": [
              "'La IA, o Inteligencia Artificial, es un campo de estudio de la informática que se enfoca en la creación de sistemas y programas capaces de realizar tareas que normalmente requieren de la inteligencia humana. Estos sistemas pueden aprender, razonar, planificar, reconocer voz y texto, procesar imágenes, entre otras habilidades. La IA se basa en algoritmos y modelos matemáticos que permiten a las máquinas sim'"
            ]
          },
          "execution_count": 16,
          "metadata": {},
          "output_type": "execute_result"
        }
      ],
      "source": [
        "responseModel(\"¿Qué es IA?\")"
      ]
    }
  ],
  "metadata": {
    "colab": {
      "provenance": []
    },
    "kernelspec": {
      "display_name": "Python 3",
      "name": "python3"
    },
    "language_info": {
      "codemirror_mode": {
        "name": "ipython",
        "version": 3
      },
      "file_extension": ".py",
      "mimetype": "text/x-python",
      "name": "python",
      "nbconvert_exporter": "python",
      "pygments_lexer": "ipython3",
      "version": "3.10.8"
    }
  },
  "nbformat": 4,
  "nbformat_minor": 0
}
